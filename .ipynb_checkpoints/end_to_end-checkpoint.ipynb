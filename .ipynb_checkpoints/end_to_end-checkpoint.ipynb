{
 "cells": [
  {
   "cell_type": "markdown",
   "id": "27ce310a-21f2-44a2-9ce9-58c55352de57",
   "metadata": {},
   "source": [
    "Topics:\n",
    "Representation learning \n",
    "\n",
    "Un algoritmo basado en representation learning es autoencoder"
   ]
  }
 ],
 "metadata": {
  "kernelspec": {
   "display_name": "Python 3 (ipykernel)",
   "language": "python",
   "name": "python3"
  },
  "language_info": {
   "codemirror_mode": {
    "name": "ipython",
    "version": 3
   },
   "file_extension": ".py",
   "mimetype": "text/x-python",
   "name": "python",
   "nbconvert_exporter": "python",
   "pygments_lexer": "ipython3",
   "version": "3.9.13"
  }
 },
 "nbformat": 4,
 "nbformat_minor": 5
}
